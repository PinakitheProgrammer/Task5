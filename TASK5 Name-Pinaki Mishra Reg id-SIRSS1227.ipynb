{
 "cells": [
  {
   "cell_type": "markdown",
   "metadata": {},
   "source": [
    "# Assignment 05\n"
   ]
  },
  {
   "cell_type": "markdown",
   "metadata": {},
   "source": [
    "# SIRSS1227"
   ]
  },
  {
   "cell_type": "markdown",
   "metadata": {},
   "source": [
    "# Pinaki Mishra\n"
   ]
  },
  {
   "cell_type": "markdown",
   "metadata": {},
   "source": [
    "# 1.Given a list of integers,write a function to return the sum of all prime numbers in that list."
   ]
  },
  {
   "cell_type": "code",
   "execution_count": 1,
   "metadata": {},
   "outputs": [
    {
     "name": "stdout",
     "output_type": "stream",
     "text": [
      "0 1 3 5 7 9 11 13 39\n",
      "39\n"
     ]
    }
   ],
   "source": [
    "numbers=input(\"\").split(' ')\n",
    "sumPrimeNumbers=0\n",
    "for n in numbers:\n",
    "    n=int(n)\n",
    "    isPrime=True\n",
    "    if n > 1:\n",
    "    \n",
    "        for i in range(2, n):\n",
    "            if (n % i) == 0:\n",
    "                isPrime=False\n",
    "                break\n",
    "        if isPrime:\n",
    "            sumPrimeNumbers+=n\n",
    "\n",
    "\n",
    "print(str(sumPrimeNumbers))"
   ]
  },
  {
   "cell_type": "markdown",
   "metadata": {},
   "source": [
    "# 2.Given a list of integers,write a function to check whether the list is strictly increasing or not."
   ]
  },
  {
   "cell_type": "code",
   "execution_count": 2,
   "metadata": {},
   "outputs": [
    {
     "name": "stdout",
     "output_type": "stream",
     "text": [
      "Original list : [1, 4, 5, 7, 8, 10]\n",
      "Is list strictly increasing  : True\n"
     ]
    }
   ],
   "source": [
    "test_list = [1, 4, 5, 7, 8, 10]\n",
    "\n",
    "print (\"Original list : \" + str(test_list))\n",
    "\n",
    "res = bool(lambda test_list: reduce(lambda i, j: j \n",
    "                if\n",
    "                i < j else 9999, test_list) != 9999)\n",
    "\n",
    "\n",
    "print (\"Is list strictly increasing  : \" + str(res))"
   ]
  },
  {
   "cell_type": "code",
   "execution_count": 3,
   "metadata": {},
   "outputs": [
    {
     "name": "stdout",
     "output_type": "stream",
     "text": [
      "True\n"
     ]
    }
   ],
   "source": [
    "class Solution :\n",
    "    def solve(self, nums):\n",
    "        if len(nums) <= 2:\n",
    "            return True\n",
    "        if len(set(nums)) != len(nums):\n",
    "            return False\n",
    "        ordered = sorted(nums)\n",
    "        return nums == ordered or nums == ordered[::-1]\n",
    "ob = Solution()\n",
    "print(ob.solve([10, 12, 23, 34, 55]))"
   ]
  },
  {
   "cell_type": "markdown",
   "metadata": {},
   "source": [
    "# 3.Write a function ti check whether a given list is expanding or not."
   ]
  },
  {
   "cell_type": "code",
   "execution_count": 4,
   "metadata": {},
   "outputs": [
    {
     "name": "stdout",
     "output_type": "stream",
     "text": [
      "intial_list [  5   9  89 110 325 450]\n",
      "difference list:  [  4  80  21 215 125]\n"
     ]
    }
   ],
   "source": [
    "import numpy as np\n",
    "ini_list = np.array([5, 9, 89, 110, 325, 450])\n",
    "print(\"intial_list\", str(ini_list))\n",
    "diff_list = np.diff(ini_list)\n",
    "print (\"difference list: \", str(diff_list))"
   ]
  },
  {
   "cell_type": "markdown",
   "metadata": {},
   "source": [
    "# 4.Write a function to calculate all permutations of a given string."
   ]
  },
  {
   "cell_type": "code",
   "execution_count": 5,
   "metadata": {},
   "outputs": [
    {
     "name": "stdout",
     "output_type": "stream",
     "text": [
      "XYZ\n",
      "XZY\n",
      "YXZ\n",
      "YZX\n",
      "ZYX\n",
      "ZXY\n"
     ]
    }
   ],
   "source": [
    "def swap(ch, i, j):\n",
    "    temp = ch[i]\n",
    "    ch[i] = ch[j]\n",
    "    ch[j] = temp\n",
    "\n",
    "def permutations(ch, curr_index=0):\n",
    "\n",
    "    if curr_index == len(ch) - 1:\n",
    "        print(''.join(ch))\n",
    "\n",
    "    for i in range(curr_index, len(ch)):\n",
    "        swap(ch, curr_index, i)\n",
    "        permutations(ch, curr_index + 1)\n",
    "        swap(ch, curr_index, i)\n",
    "\n",
    "\n",
    "if __name__ == '__main__':\n",
    "\n",
    "    s = \"XYZ\"\n",
    "    permutations(list(s))"
   ]
  },
  {
   "cell_type": "code",
   "execution_count": null,
   "metadata": {},
   "outputs": [],
   "source": []
  }
 ],
 "metadata": {
  "kernelspec": {
   "display_name": "Python 3",
   "language": "python",
   "name": "python3"
  },
  "language_info": {
   "codemirror_mode": {
    "name": "ipython",
    "version": 3
   },
   "file_extension": ".py",
   "mimetype": "text/x-python",
   "name": "python",
   "nbconvert_exporter": "python",
   "pygments_lexer": "ipython3",
   "version": "3.7.6"
  }
 },
 "nbformat": 4,
 "nbformat_minor": 4
}
